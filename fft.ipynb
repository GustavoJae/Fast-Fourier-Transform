{
 "cells": [
  {
   "cell_type": "markdown",
   "id": "793a9aeb",
   "metadata": {},
   "source": [
    "# Transformada Discreta de Fourier\n",
    "---"
   ]
  },
  {
   "cell_type": "markdown",
   "id": "f18d8b51",
   "metadata": {},
   "source": [
    "Considere uma função \n",
    "$$\n",
    "f:\\R \\to \\mathbb{C}\n",
    "$$\n",
    "periódica de período $2\\pi$. A idéia é decompor a função nas frequências associadas ao período usando as funções\n",
    "$$\n",
    "f_k(x)=e^{ikx}=\\cos{kx} + i \\sin{kx}, \\quad k\\in \\mathbb{Z}\n",
    "$$\n",
    "Cada uma com período $\\frac{2\\pi}{|k|}$ ,portanto, todas tem período $2\\pi$ também (no caso $k=0$, associamos a função constante igual a $1$). Quanto maior $|k|$, maior é a frequência associada, sendo que $-k$ e $k$ se referem a mesma frequência, mas ambos são necessários. É possível mostrar que $e^{ikx}$ e $e^{-ikx}$ são linearmente independentes no espaço vetorial das funções complexas.\n"
   ]
  },
  {
   "cell_type": "markdown",
   "id": "fccb0378",
   "metadata": {},
   "source": [
    "## Problema dos Mínimos Quadrados"
   ]
  },
  {
   "cell_type": "markdown",
   "id": "d8bb479b",
   "metadata": {},
   "source": [
    "Dada nossa função $2\\pi$-periódica f, podemos definir o seguinte problema na aproximação:<br>\n",
    "Obter uma função na forma\n",
    "$$\n",
    "g_M(x)=\\sum_{k=-M}^{M}c_ke^{ikx}\n",
    "$$\n",
    "de modo que minimiza\n",
    "$$\n",
    "  \\int_0^{2\\pi} \\vert f(x) - g_M(x) \\vert^2\\,dx,\n",
    "$$ "
   ]
  },
  {
   "cell_type": "markdown",
   "id": "6006b818",
   "metadata": {},
   "source": [
    "Então, $g_M$ é a solução de um problema de mínimos quadrados no espaço vetorial das funções $2\\pi$ periódicas munido do produto interno\n",
    "$$\n",
    "  \\langle u, v \\rangle = \\int_0^{2\\pi} u(x) \\bar{v}(x)\\,dx\n",
    "$$\n",
    "em que $\\bar{v}(x)$ é o complexo conjugado de $v(x)$. Para $k\\ne l$ \n",
    "$$\n",
    "  \\langle f_k, f_l \\rangle = \\int_0^{2\\pi} e^{i(l-k)x}\\,dx = \\left .\\frac{e^{i(l-k)x}}{i(l-k)}\\right\\vert_0^{2\\pi} = 0 \\text{ (devido à periodicidade)}.\n",
    "$$\n",
    "\n",
    "Logo, as funções $f_k$ são ortogonais. Como $\\langle f_k,f_k \\rangle = 2\\pi$, os coeficientes $c_k$ da aproximação $g_M$ são iguais a\n",
    "\n",
    "$$\n",
    "  c_k = \\frac{1}{2\\pi}\\int_0^{2\\pi} f(x)e^{-ikx}\\,dx,\\quad -M \\le k \\le M.\n",
    "$$"
   ]
  },
  {
   "cell_type": "markdown",
   "id": "c4e99d08",
   "metadata": {},
   "source": [
    "### Funções Reais\n",
    "Se $f$ for uma função real, os coeficientes são iguais a\n",
    "\n",
    "$$\n",
    "  c_k = \\frac{1}{2\\pi}\\int_0^{2\\pi}f(x)\\cos kx\\,dx - \\frac{i}{2\\pi}\\int_0^{2\\pi}f(x)\\,\\text{sen}\\,kx\\,dx = \\alpha_k - i\\beta_k,\n",
    "$$\n",
    "\n",
    "com $\\alpha_k$ e $\\beta_k$ reais. Uma consequência imediata é que $c_{-k} = \\bar{c}_k$ e portanto\n",
    "\n",
    "$$\n",
    "  g_M(x) = \\alpha_0 + 2\\sum_{k=1}^M [\\alpha_k\\cos kx + \\beta_k\\,\\text{sen}\\,kx].\n",
    "$$\n",
    "\n",
    "Se usarmos a notação $a_k = 2\\alpha_k$, $0\\le k\\le M$, e $b_k = 2\\beta_k$, $1\\le k\\le M$, obtemos\n",
    "\n",
    "$$\n",
    "  g_M(x) = \\frac{1}{2}a_0 + \\sum_{k=1}^M [a_k\\cos kx + b_k\\,\\text{sen}\\,kx]\n",
    "$$\n",
    "\n",
    "com as expressões bem conhecidas\n",
    "\n",
    "$$\n",
    "  a_k = \\frac{1}{\\pi}\\int_0^{2\\pi} f(x)\\cos kx\\,dx,\\quad 0\\le k\\le M,\\\\\n",
    "  b_k = \\frac{1}{\\pi}\\int_0^{2\\pi} f(x)\\,\\text{sen}\\,kx\\,dx,\\quad 1\\le k\\le M.\n",
    "$$\n",
    "\n",
    "Derivamos, portanto, a expansão de $f$ em sua série de Fourier!"
   ]
  },
  {
   "cell_type": "markdown",
   "id": "5ec05823",
   "metadata": {},
   "source": [
    "---"
   ]
  },
  {
   "cell_type": "markdown",
   "id": "c68543a0",
   "metadata": {},
   "source": [
    "## Análise de Fourier Discreta\n",
    "\n",
    "Considere uma função $f$ $2\\pi$-periódica tabelada em $N$ pontos igulamente espaçados\n",
    "\n",
    "$$\n",
    "  x_j = j\\frac{2\\pi}{N},\\quad 0 \\le j \\le N-1.\n",
    "$$\n",
    "\n",
    "Vamos aproximar $f$ por uma função $g_M$ da mesma forma que a usada acima,\n",
    "\n",
    "$$\n",
    "  g_M(x) = \\sum_{k=-M}^M c'_ke^{ikx},\n",
    "$$\n",
    "\n",
    "mas agora de modo a minimizar a expressão\n",
    "\n",
    "$$\n",
    "  \\sum_{j=0}^{N-1} \\vert f(x_j) - g_M(x_j) \\vert^2.\n",
    "$$\n",
    "\n",
    "Temos um problema de mínimos quadrados em relação ao produto interno\n",
    "\n",
    "$$\n",
    "  \\langle u, v \\rangle = \\sum_{j=0}^{N-1} u(x_j)\\overline{v(x_j)},\n",
    "$$\n",
    "onde $\\overline{v(x_j)}$ é o complexo conjugado de $v(x_j)$. Mas, nos pontos discretos $x_j$, há informações que se repetem. Se $k$ e $l$ diferem por um multiplo inteiro de $N$, ou seja, $l = k + mN$ para algum $m\\in\\mathbb{Z}$, então\n",
    "\n",
    "$$\n",
    "  e^{ilx_j} = e^{ilj2\\pi/N} = e^{i(k+mN)j2\\pi/N} = e^{ikj2\\pi/N}e^{imj2\\pi} = e^{ikj2\\pi/N} = e^{ikx_j}.\n",
    "$$\n",
    "\n",
    "Para valores restritos a $x_j$, $0\\le j\\le N-1$, temos periodicidade $N$ para cada $k$, logo devemos então restringir a quantidade de harmônicos. Específicamente, $2M < N$ ou\n",
    "\n",
    "$$\n",
    "  M \\leq \\frac{N}{2}\n",
    "$$\n",
    "\n",
    "(assumiremos daqui em diante que $N$ **é par**).\n",
    "\n",
    "Para o caso da nossa aproximação $g_M$,\n",
    "\n",
    "$$\n",
    "  g_M(x) = \\sum_{k=-M}^M c'_ke^{ikx},\n",
    "$$\n",
    "concluímos que os vetores $v_k = [e^{ikx_j}]$, $-M \\le k \\le M$, com $M<N/2$, são ortogonais e satisfazem\n",
    "\n",
    "$$\n",
    "  \\langle e^{ikx}, e^{ilx} \\rangle =\n",
    "  \\left\\{\\begin{array}{rl}\n",
    "  N, & \\text{se } k=l,\\\\\n",
    "  0, & \\text{se } k \\ne l.\n",
    "  \\end{array} \\right .\n",
    "$$\n",
    "\n",
    "Logo, os coeficientes de $g_M(x)$ são dados por\n",
    "$$\n",
    "  c'_k = \\frac{\\langle f(x), e^{ikx}\\rangle }{\\langle e^{ikx}, e^{ikx}\\rangle }= \\frac{1}{N}\\sum_{j=0}^{N-1}f(x_j)e^{-ikj2\\pi/N},\\quad -M \\le k \\le M.\n",
    "$$\n",
    "\n",
    "Um caso importante consiste em incluir $k=N/2$ na aproximação. Mas não podemos usar $k=-N/2$ pois teríamos os mesmos valores que no caso $N/2$ ($v_{N/2}=v_{-N/2}$, verifique!). A aproximação, que por um abuso de notação chamaremos de $g_{\\frac{N}{2}}$, tem a forma\n",
    "\n",
    "$$\n",
    "  g_{\\frac{N}{2}}(x) = \\sum_{k=-\\frac{N}{2}+1}^{\\frac{N}{2}}c'_ke^{ikx}.\n",
    "$$\n",
    "\n",
    "As relações de ortogonalidade continuam válidas e a solução do problema de mínimos quadrados tem os coeficientes iguais a\n",
    "\n",
    "$$\n",
    "  c'_k = \\frac{1}{N}\\sum_{j=0}^{N-1}F_je^{-ikj2\\pi/N},\\quad -\\frac{N}{2}+1 \\le k \\le \\frac{N}{2},\n",
    "$$\n",
    "\n",
    "onde $F_j = f(x_j)$. Mas agora há algo novo. O **erro quadrático é igual a** $0$. Ou seja $g_{\\frac{N}{2}}$ é um **polinômio trigonométrico interpolador**: $g_{\\frac{N}{2}}(x_j) = F_j$, $0 \\le j \\le N-1$. Ou seja,\n",
    "\n",
    "$$\n",
    "  F_j = \\sum_{k=-\\frac{N}{2}+1}^{\\frac{N}{2}}c'_ke^{ikj2\\pi/N},\\quad 0 \\le j \\le N-1.\n",
    "$$\n",
    "\n",
    "Dizemos que os $N$ números complexos $\\{c'_k\\}_{k=-\\frac{N}{2}+1}^{\\frac{N}{2}}$ são a **transformada discreta de Fourier** dos $N$ números complexos $\\{F_j\\}_{j=0}^{N-1}$ e que estes últimos são a transformada discreta de Fourier **inversa** dos primeiros."
   ]
  },
  {
   "cell_type": "markdown",
   "id": "a72393d4",
   "metadata": {},
   "source": [
    "---"
   ]
  },
  {
   "cell_type": "markdown",
   "id": "b8e68eb2",
   "metadata": {},
   "source": [
    "### Período Arbitrário\n",
    "\n",
    "Considere agora uma função\n",
    "\n",
    "$$\n",
    "  f: \\mathbb{R} \\to \\mathbb{C}\n",
    "$$\n",
    "\n",
    "periódica de período $T > 0$. Aproximaremos $f$ pelas funções\n",
    "\n",
    "$$\n",
    "  f_k(x) = e^{ik\\frac{2\\pi}{T}x},\n",
    "$$\n",
    "\n",
    "que têm período $T$. Os pontos discretos são agora\n",
    "\n",
    "$$\n",
    "  x_j = j\\frac{T}{N},\\quad 0\\le j\\le N-1.\n",
    "$$\n",
    "\n",
    "Como\n",
    "\n",
    "$$\n",
    "  f_k(x_j) = e^{ik\\frac{2\\pi}{T}j\\frac{T}{N}} = e^{ikj2\\pi/N},\n",
    "$$\n",
    "\n",
    "as contas são as mesmas, interpretando-se corretamente $F_j = f(jT/N)$, $0\\le j\\le N-1$."
   ]
  },
  {
   "cell_type": "markdown",
   "id": "a9d3bdf8",
   "metadata": {},
   "source": [
    "---"
   ]
  },
  {
   "cell_type": "markdown",
   "id": "75ae71fc",
   "metadata": {},
   "source": [
    "No caso em que $F$ é uma função real, os coeficientes $c'_k$ e $c'_{-k}$ são complexos conjugados\n",
    "$$c'_k=\\alpha_k+i\\beta_k$$\n",
    "$$c'_{-k}=\\overline{c'_k}=\n",
    "\\alpha_k-i\\beta_k$$\n",
    "de tal forma que\n",
    "\\begin{equation}\n",
    "\tc'_{-k}e^{-ikx_j}+c'_k e^{ikx_j} = 2(\\alpha_k \\cos(kx_j)-\\beta_k\\sin(kx_j))\n",
    "\\end{equation}\n",
    "representa **o harmônico de ordem $k$ de $f(x)$**, com amplitude $A_k=2\\sqrt{\\alpha_k^2\n",
    "+\\beta_k^2}=2|c'_k|$, $k=1, 2, ..., N/2-1$.\n",
    "\n",
    "Os coeficientes $c'_0$ e $c'_{N/2}$ têm parte imaginária nula quando $F$ é real.\n",
    "O coeficiente $c'_0$ é simplesmente a média da função. O coeficiente $c'_{N/2}$ indica a quantidade de energia na maior frequência representável por esse conjunto de $N$ pontos, frequência conhecida como frequência de Nyquist ($N/2$ ciclos por unidade de tempo, dado pelo período $T$ do sinal).\n",
    "\n"
   ]
  },
  {
   "cell_type": "markdown",
   "id": "b67bcaea",
   "metadata": {},
   "source": [
    "---"
   ]
  },
  {
   "cell_type": "markdown",
   "id": "0ffe6ea5",
   "metadata": {},
   "source": [
    "\n",
    "\n",
    "\n",
    "### Resumindo\n",
    "\n",
    "\n",
    "Note que, pela periodicidade das funções trigonométricas, temos que\n",
    "\n",
    "\\begin{equation}\n",
    "e^{-ikx_j}=e^{-2ikj\\pi/N}=e^{2i\\pi j}e^{-2ikj\\pi/N}=e^{2i(N-k)j\\pi/N}=e^{i(N-k)x_j},\n",
    "\\end{equation}\n",
    "\n",
    "e portanto podemos alternativamente escrever as transformadas (inversa e direta) como\n",
    "\\begin{equation}\n",
    "\tF_j = \\sum_{k=0}^{N-1}c_k e^{ikx_j}\\ \\ ,j=0,..,N-1, \\quad \\text{(IDFT)}\n",
    "\\end{equation}\n",
    "e\n",
    "\\begin{equation}\n",
    "        c_k=\\frac{1}{N} \\sum_{j=0}^{N-1} F_je^{-ikx_j} , \\ \\ k=0,...,N-1, \\quad \\text{(DFT)}\n",
    "\\end{equation}\n",
    "onde (IDFT) indica *Inverse Discrete Fourier Transform* e (DFT) indica *Discrete Fourier Transform* e consideramos $c_k=c'_k$, $k=0,1,..,\\frac{N}{2}$ e $c_{N-k}=c'_{-k}, k=1,...,\\frac{N}{2}-1$."
   ]
  },
  {
   "cell_type": "code",
   "execution_count": 1,
   "id": "f27a92ec",
   "metadata": {},
   "outputs": [],
   "source": [
    "import numpy as np\n",
    "\n",
    "def dft(F):\n",
    "  N = int(len(F))        #Tamanho do vetor\n",
    "  n = np.arange(N)       # 0,1,....N-1\n",
    "  x = (2*np.pi/N)*n      # pontos de amostragem x_i\n",
    "  k = n.reshape((N, 1))  # frequências\n",
    "  e = np.exp(-1j*k*x)    # exp(-i k x)\n",
    "  c = np.dot(F, e)/(N)  # Transformada\n",
    "  return c\n",
    "\n",
    "def idft(c):\n",
    "  N = int(len(c))        #tamanho do vetor\n",
    "  n = np.arange(N)       # 0,1,....N-1\n",
    "  x = (2*np.pi/N)*n      # pontos de amostragem x_i\n",
    "  k = n.reshape((N, 1))  # frequencias\n",
    "  e = np.exp(1j*k*x)     # exp(i k x)\n",
    "  F = np.dot(c, e)/N # Transformada inversa\n",
    "  return F.real"
   ]
  },
  {
   "cell_type": "markdown",
   "id": "218d9dce",
   "metadata": {},
   "source": [
    "---"
   ]
  },
  {
   "cell_type": "markdown",
   "id": "546b70d2",
   "metadata": {},
   "source": [
    "## Transformada Rápida de Fourier (FFT)"
   ]
  },
  {
   "cell_type": "markdown",
   "id": "2da28646",
   "metadata": {},
   "source": [
    "Note que há muitas operações iguais que são feitas ao calcularmos diferentes coeficientes. Por exemplo $e^{2\\pi k j / N} = e^{2\\pi 3 / N}$ é calculado quando temos $k=1$ e $j=3$, mas também quando $k=3$ e $j=1$.\n",
    "\n",
    "É possível aproveitar algumas simetrias dessas contas e reduzir o número de operações para algo da ordem de $O(N\\log(N))$. Isso é conhecido como **Transformada Rápida de Fourier** (FFT - Fast Fourier Transform).\n",
    "\n",
    "Um dos algoritmos mais conhecidos de transformada rápida de Fourier é o algoritmo de Cooley & Tukey (Cooley, James W.; Tukey, John W. (1965), An algorithm for the machine calculation of complex Fourier series, Math. Comput. 19, 297-301). A ideia central do algoritmo é dividir a transformação em pedaços menores (na metade por exemplo, considerando os pares e os ímpares), e realizar transformadas nesses subconjuntos, recursivamente.\n",
    "\n",
    "A efetividade do algoritmo depende de $N$ ser fatorável em fatores primos pequenos. Vamos aqui nos restringir ao caso em $N$ é uma potência de $2$, embora haja diversas implementações muito eficientes para transformadas de comprimento do tipo $2^l3^m5^n7^p$.\n",
    "\n",
    "Vejamos um exemplo de implementação ingênua, recursiva, de FFT. A única ressalva, comparado ao nosso algoritmo original de DFT, é que este precisa que a entrada seja um vetor com **$N$ potência de $2$**, e ao final da execução completa, precisamos **dividir os coeficientes por $N$** para obter o análogo ao DFT anterior.\n"
   ]
  },
  {
   "cell_type": "code",
   "execution_count": 2,
   "id": "e2231173",
   "metadata": {},
   "outputs": [],
   "source": [
    "# FFT de Cooley-Tukey\n",
    "def fft(x):\n",
    "    N = len(x)\n",
    "\n",
    "    if N == 1:\n",
    "        return x\n",
    "    else:\n",
    "        pares = fft(x[::2])\n",
    "        impares = fft(x[1::2])\n",
    "        exp = np.exp(-2j*np.pi*np.arange(N)/ N)\n",
    "\n",
    "        c = np.concatenate([pares+exp[:int(N/2)]*impares, pares+exp[int(N/2):]*impares])\n",
    "        return c"
   ]
  },
  {
   "cell_type": "markdown",
   "id": "00cc4808",
   "metadata": {},
   "source": [
    "Para entendermos a ideia da recurssão acima, considere a DFT de $N$ pontos\n",
    "$$\n",
    "  c_k = \\sum_{j=0}^{N-1} f_jw_N^{jk},\\quad 0 \\le k \\le N-1,\n",
    "$$\n",
    "onde $w_N = e^{i2\\pi/N}$. Podemos separar a somatória em índices pares e ímpares:\n",
    "$$\n",
    "  c_k = \\sum_{j=o}^{\\frac{N}{2}-1} f_{2j}w_{\\frac{N}{2}}^{jk} + w_N^k\\sum_{j=0}^{\\frac{N}{2}-1} f_{2j+1}w_{\\frac{N}{2}}^{jk}, \\quad 0 \\le k \\le N-1.\n",
    "$$\n",
    "Logo, se definirmos as DFTs de $N/2$ pontos\n",
    "$$\n",
    "  c_k^{(0)} = \\sum_{j=o}^{\\frac{N}{2}-1} f_{2j}w_{\\frac{N}{2}}^{jk}\\\\\n",
    "  c_k^{(1)} = \\sum_{j=0}^{\\frac{N}{2}-1} f_{2j+1}w_{\\frac{N}{2}}^{jk}\n",
    "$$\n",
    "para $0 \\le k \\le N/2 -1$, obtemos\n",
    "$$\n",
    "  c_k = c_k^{(0)} + w_N^kc_k^{(1)},\\\\\n",
    "  c_{k+N/2} = c_k^{(0)} - w_N^kc_k^{(1)},\n",
    "$$\n",
    "$0 \\le k \\le N/2-1$. Ou seja, o cálculo de uma DFT de $N$ pontos foi reduzido ao cálculo de duas DFTs de $N/2$ pontos com o uso de $N$ adições/subtrações e $N/2$ multiplicações.\n",
    "\n",
    "O processo agora pode ser repetido recursivamente: $c_k^{(0)}$ pode ser obtido de duas DFTs de $N/4$ pontos $c_k^{(00)}$ e $c_k^{(01)}$, e $c_k^{(1)}$ pode ser obtido de duas DFTs de $N/4$ pontos $c_k^{(10)}$ e $c_k^{(11)}$, envolvendo novamente um total de $N$ adições/subtrações e $N/2$ multiplicações, etc. Após $\\log_2(N)$ etapas chegamos a $N$ DFTs de tamanho 1, quando o processo termina.\n",
    "\n",
    "Desta forma, uma DFT de $N$ pontos pode ser calculada com um número de operações aritméticas da ordem de $N\\log_2(N)$."
   ]
  },
  {
   "cell_type": "markdown",
   "id": "2e9a1169",
   "metadata": {},
   "source": [
    "## Exemplos"
   ]
  },
  {
   "cell_type": "code",
   "execution_count": 3,
   "id": "0fd95513",
   "metadata": {},
   "outputs": [
    {
     "name": "stdout",
     "output_type": "stream",
     "text": [
      "N,  tempo (segundos),  razão tempo[i]/tempo[i-1]\n",
      "512 0.015835046768188477 2.611244348338903\n",
      "1024 0.018949270248413086 1.196666516102805\n",
      "2048 0.03426694869995117 1.8083518916946615\n",
      "4096 0.06800532341003418 1.9845748159692749\n"
     ]
    },
    {
     "data": {
      "image/png": "[encoded data removed]",
      "text/plain": [
       "<Figure size 600x600 with 3 Axes>"
      ]
     },
     "metadata": {},
     "output_type": "display_data"
    }
   ],
   "source": [
    "import time\n",
    "import matplotlib.pyplot as plt\n",
    "\n",
    "def f(x):\n",
    "  #return np.exp(-5*(x-np.pi)**2)\n",
    "  return np.sin(50*x) + np.sin(100*x)\n",
    "N = 256\n",
    "intervalo = np.arange(N)*2*np.pi/N\n",
    "coef_dft = abs(dft(f(intervalo)))\n",
    "coef_fft = abs(fft(f(intervalo)))/N\n",
    "erro = coef_dft - coef_fft\n",
    "\n",
    "# Gráficos\n",
    "figure, axs = plt.subplots(3, 1, figsize=(6,6))\n",
    "\n",
    "x=np.arange(N)\n",
    "\n",
    "plt.subplots_adjust(hspace=0.8)\n",
    "\n",
    "axs[0].plot(x, coef_dft, marker=\".\")\n",
    "axs[0].set_title(\"Coeficientes de dft\")\n",
    "axs[0].set_ylabel(\"Amplitude\")\n",
    "\n",
    "axs[1].plot(x, coef_fft, marker=\".\")\n",
    "axs[1].set_title(\"Coeficientes de fft\")\n",
    "axs[1].set_ylabel(\"Amplitude\")\n",
    "\n",
    "\n",
    "axs[2].plot(x,erro, marker=\".\")\n",
    "axs[2].set_title(\"Diferença\")\n",
    "axs[2].set_ylabel(\"Amplitude\")\n",
    "\n",
    "print(\"N,  tempo (segundos),  razão tempo[i]/tempo[i-1]\")\n",
    "m=5\n",
    "tempos=np.zeros(m)\n",
    "for i in range(m):\n",
    "  N = 2**(i+8)\n",
    "  x = np.arange(0, 2*np.pi, 2*np.pi/N)\n",
    "  tempo_inicial = time.time() # Essa variável vai contar o tempo de execução\n",
    "  fft(f(x))\n",
    "  tempos[i] = time.time() - tempo_inicial #Quanto tempo levou\n",
    "  if i>0:\n",
    "    print(N, tempos[i], tempos[i]/tempos[i-1])"
   ]
  }
 ],
 "metadata": {
  "kernelspec": {
   "display_name": "base",
   "language": "python",
   "name": "python3"
  },
  "language_info": {
   "codemirror_mode": {
    "name": "ipython",
    "version": 3
   },
   "file_extension": ".py",
   "mimetype": "text/x-python",
   "name": "python",
   "nbconvert_exporter": "python",
   "pygments_lexer": "ipython3",
   "version": "3.12.7"
  }
 },
 "nbformat": 4,
 "nbformat_minor": 5
}
